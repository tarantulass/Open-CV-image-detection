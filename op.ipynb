{
 "cells": [
  {
   "cell_type": "markdown",
   "id": "0294e85d-1162-4e18-bd79-a35b31b3b52c",
   "metadata": {},
   "source": [
    "$\\text{Reading images in openCV}$"
   ]
  },
  {
   "cell_type": "code",
   "execution_count": 3,
   "id": "e918e67f-b60f-445d-81a2-446f2166c907",
   "metadata": {},
   "outputs": [],
   "source": [
    "import cv2 as cv"
   ]
  },
  {
   "cell_type": "code",
   "execution_count": 4,
   "id": "c7b3f6ab-80df-4d78-96f2-407012c1b945",
   "metadata": {},
   "outputs": [],
   "source": [
    "img = cv.imread('Documents/a.jpg')"
   ]
  },
  {
   "cell_type": "code",
   "execution_count": 3,
   "id": "3eb85b3f-1ad6-47c0-900b-99ba3f6b6a55",
   "metadata": {},
   "outputs": [
    {
     "name": "stderr",
     "output_type": "stream",
     "text": [
      "Warning: Ignoring XDG_SESSION_TYPE=wayland on Gnome. Use QT_QPA_PLATFORM=wayland to run on Wayland anyway.\n"
     ]
    }
   ],
   "source": [
    "cv.imshow('cat',img)\n",
    "#name of the output window is cat\n",
    "cv.waitKey(0)\n",
    "#hold the image of the cat and program is stopped untill any key is pressed.\n",
    "cv.destroyWindow('cat')\n",
    "#to remove the image of the cat after a key pressed.\n",
    "#say my image is very large as compared to the dimension of my laptop then it throws a section of image."
   ]
  },
  {
   "cell_type": "markdown",
   "id": "e16a7747-1acf-4898-8ceb-48bee99e8dce",
   "metadata": {},
   "source": [
    "$\\text{Reading videos in openCV}$"
   ]
  },
  {
   "cell_type": "code",
   "execution_count": 10,
   "id": "839ef220-48fe-428a-84ae-d6f1a9a340d8",
   "metadata": {},
   "outputs": [],
   "source": [
    "capture = cv.VideoCapture('Downloads/SampleVideo_640x360_2mb.mp4')\n",
    "#capture is an instance of this video capture class\n",
    "while True:\n",
    "    istrue,frame = capture.read()\n",
    "    cv.imshow('video',frame)\n",
    "\n",
    "    if  cv.waitKey(20) & 0xFF == ord('d'):\n",
    "        break\n",
    "capture.release()\n",
    "cv.destroyAllWindows()"
   ]
  },
  {
   "cell_type": "code",
   "execution_count": 18,
   "id": "f1ad1341-b8b8-4215-a68f-e0670530a7c3",
   "metadata": {},
   "outputs": [
    {
     "name": "stderr",
     "output_type": "stream",
     "text": [
      "[ WARN:0@259.272] global cap_v4l.cpp:997 open VIDEOIO(V4L2:/dev/video0): can't open camera by index\n",
      "[ERROR:0@259.273] global obsensor_uvc_stream_channel.cpp:159 getStreamChannelGroup Camera index out of range\n"
     ]
    },
    {
     "ename": "error",
     "evalue": "OpenCV(4.9.0) /io/opencv/modules/highgui/src/window.cpp:971: error: (-215:Assertion failed) size.width>0 && size.height>0 in function 'imshow'\n",
     "output_type": "error",
     "traceback": [
      "\u001b[0;31m---------------------------------------------------------------------------\u001b[0m",
      "\u001b[0;31merror\u001b[0m                                     Traceback (most recent call last)",
      "Cell \u001b[0;32mIn[18], line 5\u001b[0m\n\u001b[1;32m      3\u001b[0m num,frame \u001b[38;5;241m=\u001b[39m video\u001b[38;5;241m.\u001b[39mread()\n\u001b[1;32m      4\u001b[0m \u001b[38;5;66;03m#successfully read the frame and then we have the frame.\u001b[39;00m\n\u001b[0;32m----> 5\u001b[0m \u001b[43mcv\u001b[49m\u001b[38;5;241;43m.\u001b[39;49m\u001b[43mimshow\u001b[49m\u001b[43m(\u001b[49m\u001b[38;5;124;43m'\u001b[39;49m\u001b[38;5;124;43mface\u001b[39;49m\u001b[38;5;124;43m'\u001b[39;49m\u001b[43m,\u001b[49m\u001b[43mframe\u001b[49m\u001b[43m)\u001b[49m\n\u001b[1;32m      7\u001b[0m \u001b[38;5;28;01mif\u001b[39;00m  cv\u001b[38;5;241m.\u001b[39mwaitKey(\u001b[38;5;241m20\u001b[39m) \u001b[38;5;241m&\u001b[39m \u001b[38;5;241m0xFF\u001b[39m \u001b[38;5;241m==\u001b[39m \u001b[38;5;28mord\u001b[39m(\u001b[38;5;124m'\u001b[39m\u001b[38;5;124md\u001b[39m\u001b[38;5;124m'\u001b[39m):\n\u001b[1;32m      8\u001b[0m     \u001b[38;5;28;01mbreak\u001b[39;00m\n",
      "\u001b[0;31merror\u001b[0m: OpenCV(4.9.0) /io/opencv/modules/highgui/src/window.cpp:971: error: (-215:Assertion failed) size.width>0 && size.height>0 in function 'imshow'\n"
     ]
    }
   ],
   "source": [
    "video = cv.VideoCapture(0)\n",
    "while True:\n",
    "    num,frame = video.read()\n",
    "    #successfully read the frame and then we have the frame.\n",
    "    cv.imshow('face',frame)\n",
    "\n",
    "    if  cv.waitKey(20) & 0xFF == ord('d'):\n",
    "        break\n",
    "capture.release()\n",
    "cv.destroyAllWindows()\n"
   ]
  },
  {
   "cell_type": "markdown",
   "id": "b7e2a8d0-b412-47ad-90da-5ad4e9dc677b",
   "metadata": {},
   "source": [
    "$\\text{Resize and rescale}$"
   ]
  },
  {
   "cell_type": "code",
   "execution_count": 12,
   "id": "23accdc3-86be-4506-851d-0db9df6ee6f2",
   "metadata": {},
   "outputs": [],
   "source": [
    "#usually better to decrease the size instead of increasing the dimension in pixels\n",
    "def rescale(frame,scale):\n",
    "    width = int(frame.shape[1] * scale)\n",
    "    height = int(frame.shape[0] * scale)\n",
    "    dimension = (width,height)\n",
    "    #tuple of width and height\n",
    "    return cv.resize(frame,dimension,interpolation = cv.INTER_AREA)"
   ]
  },
  {
   "cell_type": "code",
   "execution_count": 22,
   "id": "093853e4-2d2c-4425-9e63-ef4d8ef656ee",
   "metadata": {},
   "outputs": [],
   "source": [
    "re_img = rescale(img,0.75)\n",
    "cv.imshow('Resized',re_img)\n",
    "cv.waitKey(0)\n",
    "cv.destroyWindow('Resized')"
   ]
  },
  {
   "cell_type": "code",
   "execution_count": 28,
   "id": "8a65f4a8-d30e-453a-96c9-baa78c00c3dd",
   "metadata": {},
   "outputs": [],
   "source": [
    "video1 = cv.VideoCapture('Downloads/SampleVideo_720x480_2mb.mkv')"
   ]
  },
  {
   "cell_type": "code",
   "execution_count": 29,
   "id": "d18639d2-1247-4f31-8299-302bd004fa41",
   "metadata": {},
   "outputs": [],
   "source": [
    "while True:\n",
    "    num,frame = video1.read()\n",
    "    cv.imshow('Video1',frame)\n",
    "\n",
    "    if cv.waitKey(20) & 0xFF == ord('d'):\n",
    "        break\n",
    "video1.release()\n",
    "cv.destroyAllWindows()\n",
    "#(0) wait or halts the program from running in regular way.\n",
    "#point to be noted here that if cv.waitkey(0) is in the if condition then it would only evaluate to true or false if any key is pressed otherwise no execution"
   ]
  },
  {
   "cell_type": "code",
   "execution_count": 30,
   "id": "bfa1072e-1ac9-48e0-838a-cc2d5558b5de",
   "metadata": {},
   "outputs": [],
   "source": [
    "video2 = cv.VideoCapture('Downloads/SampleVideo_640x360_2mb.mp4')\n",
    "while True:\n",
    "    num,slice = video2.read()\n",
    "    re_slice = rescale(slice, 0.5)\n",
    "    cv.imshow('Video2',re_slice)\n",
    "\n",
    "    if cv.waitKey(20) & 0xFF == ord('d'):\n",
    "        break\n",
    "video2.release()\n",
    "cv.destroyAllWindows()\n",
    "#point to be noted here that if cv.waitkey(0) is in the if condition then it would only evaluate to true or false if any key is pressed otherwise no execution"
   ]
  },
  {
   "cell_type": "code",
   "execution_count": 34,
   "id": "aa384c5d-aaa0-407b-bbf5-567d6f15562f",
   "metadata": {},
   "outputs": [],
   "source": [
    "#only works for live video\n",
    "#check how to change the resolution of video\n",
    "def changeres(width,height):\n",
    "    capture.set(3,width)\n",
    "    capture.set(4,width)\n",
    "    "
   ]
  },
  {
   "cell_type": "code",
   "execution_count": null,
   "id": "e7cd9685-e7f0-4d6b-9765-90b43dc5aff6",
   "metadata": {},
   "outputs": [],
   "source": []
  }
 ],
 "metadata": {
  "kernelspec": {
   "display_name": "Python 3 (ipykernel)",
   "language": "python",
   "name": "python3"
  },
  "language_info": {
   "codemirror_mode": {
    "name": "ipython",
    "version": 3
   },
   "file_extension": ".py",
   "mimetype": "text/x-python",
   "name": "python",
   "nbconvert_exporter": "python",
   "pygments_lexer": "ipython3",
   "version": "3.10.12"
  }
 },
 "nbformat": 4,
 "nbformat_minor": 5
}
