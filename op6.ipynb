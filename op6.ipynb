{
 "cells": [
  {
   "cell_type": "markdown",
   "id": "6fc3651d-5ada-4f33-a853-6705f224bf85",
   "metadata": {},
   "source": [
    "Face detection and recognition"
   ]
  },
  {
   "cell_type": "code",
   "execution_count": 7,
   "id": "bb987f99-b1de-4966-a20c-96733fe68e13",
   "metadata": {},
   "outputs": [],
   "source": [
    "import cv2 as cv\n",
    "import numpy as np\n",
    "import matplotlib.pyplot as plt\n",
    "import os"
   ]
  },
  {
   "cell_type": "code",
   "execution_count": 6,
   "id": "51cc9cee-2a67-4b65-9a9a-a8de43db8066",
   "metadata": {},
   "outputs": [
    {
     "name": "stdout",
     "output_type": "stream",
     "text": [
      "3\n"
     ]
    }
   ],
   "source": [
    "face = cv.imread('Documents/face.jpg')\n",
    "gface = cv.cvtColor(face,cv.COLOR_BGR2GRAY)\n",
    "#creating an instance\n",
    "detect_face = cv.CascadeClassifier('haar_face.xml')\n",
    "\n",
    "#grayscale into face detection\n",
    "rect_coordinates = detect_face.detectMultiScale(gface,scaleFactor=1.1,minNeighbors=5)\n",
    "#checkout these things\n",
    "# rect_coordinates = detect_face.detectMultiScale(gface,scaleFactor=1.1,minNeighbors=1)\n",
    "# rect_coordinates = detect_face.detectMultiScale(gface,scaleFactor=1.1,minNeighbors=10)\n",
    "# for (x,y,w,h) in rect_coordinates: is also valid\n",
    "for x,y,w,h in rect_coordinates:\n",
    "    modified_face = cv.rectangle(face,(x,y),(x+w,y+h),[255,0,0],2)\n",
    "    cv.imshow('faces',modified_face)\n",
    "\n",
    "cv.waitKey(0)\n",
    "cv.destroyAllWindows()\n",
    "\n",
    "print(len(rect_coordinates))"
   ]
  },
  {
   "cell_type": "markdown",
   "id": "1d0c419e-831f-4276-90a4-fcaf97fa4ab3",
   "metadata": {},
   "source": [
    "Use of with open('file path',mode) as file name to be used for later usage:\n",
    "\n",
    "    with open('abcd,'r') as input_file, open(efgh,'w') as output_file:\n",
    "        for line in input_file:\n",
    "            output_file.write(line)\n",
    "            a = input_file.read()"
   ]
  },
  {
   "cell_type": "markdown",
   "id": "a4e7c94f-85cf-4362-9f1d-f0888a65b0b0",
   "metadata": {},
   "source": [
    "Recognition"
   ]
  },
  {
   "cell_type": "code",
   "execution_count": null,
   "id": "c84f2dfe-4f4b-4942-b781-fe138f3634a8",
   "metadata": {},
   "outputs": [],
   "source": []
  }
 ],
 "metadata": {
  "kernelspec": {
   "display_name": "Python 3 (ipykernel)",
   "language": "python",
   "name": "python3"
  },
  "language_info": {
   "codemirror_mode": {
    "name": "ipython",
    "version": 3
   },
   "file_extension": ".py",
   "mimetype": "text/x-python",
   "name": "python",
   "nbconvert_exporter": "python",
   "pygments_lexer": "ipython3",
   "version": "3.10.12"
  }
 },
 "nbformat": 4,
 "nbformat_minor": 5
}
