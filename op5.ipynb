{
 "cells": [
  {
   "cell_type": "markdown",
   "id": "1f7cf3f6-55bb-474f-af6a-0628bbcfc281",
   "metadata": {},
   "source": [
    "Bitwise operators in opencv\n",
    "--------------------\n",
    "also thickness if its a positive value then it is thickness if -ve then it fills the entire area!! also remeber that we provide 255 color value  to white"
   ]
  },
  {
   "cell_type": "code",
   "execution_count": 11,
   "id": "58352bea-eeaa-4be0-8d5b-568bb044f838",
   "metadata": {},
   "outputs": [],
   "source": [
    "import cv2 as cv\n",
    "import numpy as np"
   ]
  },
  {
   "cell_type": "code",
   "execution_count": 2,
   "id": "7271f606-89d1-4f05-9417-2e0a51bddf6b",
   "metadata": {},
   "outputs": [
    {
     "name": "stderr",
     "output_type": "stream",
     "text": [
      "Warning: Ignoring XDG_SESSION_TYPE=wayland on Gnome. Use QT_QPA_PLATFORM=wayland to run on Wayland anyway.\n"
     ]
    }
   ],
   "source": [
    "blank = np.zeros((500,500),dtype = 'uint8')\n",
    "\n",
    "rect = cv.rectangle(blank.copy(),(100,100),(400,400),255,-1)\n",
    "cir = cv.circle(blank.copy(),(250,250),150,255,-1)\n",
    "\n",
    "bit_and = cv.bitwise_and(rect,cir)\n",
    "bit_not = cv.bitwise_not(rect,cir)\n",
    "bit_or = cv.bitwise_or(rect,cir)\n",
    "bit_xor = cv.bitwise_xor(rect,cir)\n",
    "cv.imshow('and',bit_and)\n",
    "cv.imshow('not',bit_not)\n",
    "cv.imshow('or',bit_or)\n",
    "cv.imshow('xor',bit_xor)\n",
    "\n",
    "cv.waitKey(0)\n",
    "cv.destroyAllWindows()"
   ]
  },
  {
   "cell_type": "markdown",
   "id": "2c19c86e-2bd5-46b3-b0ca-23e652c67d4c",
   "metadata": {},
   "source": [
    "Masking -  it allows us to focus on our subject of interest"
   ]
  },
  {
   "cell_type": "code",
   "execution_count": 3,
   "id": "1226a23f-c309-40e7-bdb4-1a9f2d0e1513",
   "metadata": {},
   "outputs": [],
   "source": [
    "img = cv.imread('Documents/a.jpg')"
   ]
  },
  {
   "cell_type": "code",
   "execution_count": 4,
   "id": "ddfaf893-d685-4d7a-a9d9-b2b19a5e95ca",
   "metadata": {},
   "outputs": [
    {
     "ename": "error",
     "evalue": "OpenCV(4.9.0) /io/opencv/modules/core/src/arithm.cpp:230: error: (-215:Assertion failed) (mtype == CV_8U || mtype == CV_8S) && _mask.sameSize(*psrc1) in function 'binary_op'\n",
     "output_type": "error",
     "traceback": [
      "\u001b[0;31m---------------------------------------------------------------------------\u001b[0m",
      "\u001b[0;31merror\u001b[0m                                     Traceback (most recent call last)",
      "Cell \u001b[0;32mIn[4], line 1\u001b[0m\n\u001b[0;32m----> 1\u001b[0m masked \u001b[38;5;241m=\u001b[39m \u001b[43mcv\u001b[49m\u001b[38;5;241;43m.\u001b[39;49m\u001b[43mbitwise_and\u001b[49m\u001b[43m(\u001b[49m\u001b[43mimg\u001b[49m\u001b[43m,\u001b[49m\u001b[43mimg\u001b[49m\u001b[43m,\u001b[49m\u001b[43mmask\u001b[49m\u001b[43m \u001b[49m\u001b[38;5;241;43m=\u001b[39;49m\u001b[43m \u001b[49m\u001b[43mbit_and\u001b[49m\u001b[43m)\u001b[49m\n\u001b[1;32m      2\u001b[0m cv\u001b[38;5;241m.\u001b[39mimshow(\u001b[38;5;124m'\u001b[39m\u001b[38;5;124mmasking\u001b[39m\u001b[38;5;124m'\u001b[39m,masked)\n\u001b[1;32m      4\u001b[0m cv\u001b[38;5;241m.\u001b[39mwaitKey(\u001b[38;5;241m0\u001b[39m)\n",
      "\u001b[0;31merror\u001b[0m: OpenCV(4.9.0) /io/opencv/modules/core/src/arithm.cpp:230: error: (-215:Assertion failed) (mtype == CV_8U || mtype == CV_8S) && _mask.sameSize(*psrc1) in function 'binary_op'\n"
     ]
    }
   ],
   "source": [
    "masked = cv.bitwise_and(img,img,mask = bit_and)\n",
    "cv.imshow('masking',masked)\n",
    "\n",
    "cv.waitKey(0)\n",
    "cv.destroyAllWindows()\n",
    "#it will not work because masked tries to bitwise and with a grayscale image of circle hence dimension mismatch\n",
    "#this is for using bitwise and as a filter for translating u  should use cv.circle simply"
   ]
  },
  {
   "cell_type": "code",
   "execution_count": 5,
   "id": "6851b325-7fed-4200-b261-1de3c52f48b5",
   "metadata": {},
   "outputs": [
    {
     "ename": "AttributeError",
     "evalue": "'numpy.ndarray' object has no attribute 'BGR2GRAY'",
     "output_type": "error",
     "traceback": [
      "\u001b[0;31m---------------------------------------------------------------------------\u001b[0m",
      "\u001b[0;31mAttributeError\u001b[0m                            Traceback (most recent call last)",
      "Cell \u001b[0;32mIn[5], line 1\u001b[0m\n\u001b[0;32m----> 1\u001b[0m masked \u001b[38;5;241m=\u001b[39m cv\u001b[38;5;241m.\u001b[39mbitwise_and(\u001b[43mimg\u001b[49m\u001b[38;5;241;43m.\u001b[39;49m\u001b[43mBGR2GRAY\u001b[49m,img\u001b[38;5;241m.\u001b[39mBGR2GRAY,mask \u001b[38;5;241m=\u001b[39m bit_and)\n\u001b[1;32m      2\u001b[0m cv\u001b[38;5;241m.\u001b[39mimshow(\u001b[38;5;124m'\u001b[39m\u001b[38;5;124mmasking\u001b[39m\u001b[38;5;124m'\u001b[39m,masked)\n\u001b[1;32m      4\u001b[0m cv\u001b[38;5;241m.\u001b[39mwaitKey(\u001b[38;5;241m0\u001b[39m)\n",
      "\u001b[0;31mAttributeError\u001b[0m: 'numpy.ndarray' object has no attribute 'BGR2GRAY'"
     ]
    }
   ],
   "source": [
    "masked = cv.bitwise_and(img.BGR2GRAY,img.BGR2GRAY,mask = bit_and)\n",
    "cv.imshow('masking',masked)\n",
    "\n",
    "cv.waitKey(0)\n",
    "cv.destroyAllWindows()\n",
    "#its because img is nothing but a numpy array\n",
    "#it will not work because masked tries to bitwise and with a grayscale image of circle hence dimension mismatch\n",
    "#this is for using bitwise and as a filter for translating u  should use cv.circle simply"
   ]
  },
  {
   "cell_type": "code",
   "execution_count": 6,
   "id": "32d6d8b7-34b2-4e75-9211-4ac7fcc267a3",
   "metadata": {},
   "outputs": [
    {
     "ename": "error",
     "evalue": "OpenCV(4.9.0) /io/opencv/modules/core/src/arithm.cpp:230: error: (-215:Assertion failed) (mtype == CV_8U || mtype == CV_8S) && _mask.sameSize(*psrc1) in function 'binary_op'\n",
     "output_type": "error",
     "traceback": [
      "\u001b[0;31m---------------------------------------------------------------------------\u001b[0m",
      "\u001b[0;31merror\u001b[0m                                     Traceback (most recent call last)",
      "Cell \u001b[0;32mIn[6], line 2\u001b[0m\n\u001b[1;32m      1\u001b[0m img \u001b[38;5;241m=\u001b[39m cv\u001b[38;5;241m.\u001b[39mcvtColor(img,cv\u001b[38;5;241m.\u001b[39mCOLOR_BGR2GRAY)\n\u001b[0;32m----> 2\u001b[0m masked \u001b[38;5;241m=\u001b[39m \u001b[43mcv\u001b[49m\u001b[38;5;241;43m.\u001b[39;49m\u001b[43mbitwise_and\u001b[49m\u001b[43m(\u001b[49m\u001b[43mimg\u001b[49m\u001b[43m,\u001b[49m\u001b[43mimg\u001b[49m\u001b[43m,\u001b[49m\u001b[43mmask\u001b[49m\u001b[43m \u001b[49m\u001b[38;5;241;43m=\u001b[39;49m\u001b[43m \u001b[49m\u001b[43mbit_and\u001b[49m\u001b[43m)\u001b[49m\n\u001b[1;32m      3\u001b[0m cv\u001b[38;5;241m.\u001b[39mimshow(\u001b[38;5;124m'\u001b[39m\u001b[38;5;124mmasking\u001b[39m\u001b[38;5;124m'\u001b[39m,masked)\n\u001b[1;32m      5\u001b[0m cv\u001b[38;5;241m.\u001b[39mwaitKey(\u001b[38;5;241m0\u001b[39m)\n",
      "\u001b[0;31merror\u001b[0m: OpenCV(4.9.0) /io/opencv/modules/core/src/arithm.cpp:230: error: (-215:Assertion failed) (mtype == CV_8U || mtype == CV_8S) && _mask.sameSize(*psrc1) in function 'binary_op'\n"
     ]
    }
   ],
   "source": [
    "img = cv.cvtColor(img,cv.COLOR_BGR2GRAY)\n",
    "masked = cv.bitwise_and(img,img,mask = bit_and)\n",
    "cv.imshow('masking',masked)\n",
    "\n",
    "cv.waitKey(0)\n",
    "cv.destroyAllWindows()\n",
    "#still error because dimension mismatch\n",
    "#it will not work because masked tries to bitwise and with a grayscale image of circle hence dimension mismatch\n",
    "#this is for using bitwise and as a filter for translating u  should use cv.circle simply"
   ]
  },
  {
   "cell_type": "code",
   "execution_count": 7,
   "id": "758f7ad0-0613-47ef-8ecb-054c263c01a8",
   "metadata": {},
   "outputs": [
    {
     "ename": "error",
     "evalue": "OpenCV(4.9.0) /io/opencv/modules/imgproc/src/color.simd_helpers.hpp:92: error: (-2:Unspecified error) in function 'cv::impl::{anonymous}::CvtHelper<VScn, VDcn, VDepth, sizePolicy>::CvtHelper(cv::InputArray, cv::OutputArray, int) [with VScn = cv::impl::{anonymous}::Set<3, 4>; VDcn = cv::impl::{anonymous}::Set<1>; VDepth = cv::impl::{anonymous}::Set<0, 2, 5>; cv::impl::{anonymous}::SizePolicy sizePolicy = cv::impl::<unnamed>::NONE; cv::InputArray = const cv::_InputArray&; cv::OutputArray = const cv::_OutputArray&]'\n> Invalid number of channels in input image:\n>     'VScn::contains(scn)'\n> where\n>     'scn' is 1\n",
     "output_type": "error",
     "traceback": [
      "\u001b[0;31m---------------------------------------------------------------------------\u001b[0m",
      "\u001b[0;31merror\u001b[0m                                     Traceback (most recent call last)",
      "Cell \u001b[0;32mIn[7], line 1\u001b[0m\n\u001b[0;32m----> 1\u001b[0m img \u001b[38;5;241m=\u001b[39m \u001b[43mcv\u001b[49m\u001b[38;5;241;43m.\u001b[39;49m\u001b[43mcvtColor\u001b[49m\u001b[43m(\u001b[49m\u001b[43mimg\u001b[49m\u001b[43m,\u001b[49m\u001b[43mcv\u001b[49m\u001b[38;5;241;43m.\u001b[39;49m\u001b[43mCOLOR_BGR2GRAY\u001b[49m\u001b[43m)\u001b[49m\n\u001b[1;32m      2\u001b[0m bit_and \u001b[38;5;241m=\u001b[39m cv\u001b[38;5;241m.\u001b[39mresize(bit_and,img\u001b[38;5;241m.\u001b[39mshape[\u001b[38;5;241m-\u001b[39m\u001b[38;5;241m1\u001b[39m:\u001b[38;5;241m1\u001b[39m:\u001b[38;5;241m-\u001b[39m\u001b[38;5;241m1\u001b[39m])\n\u001b[1;32m      3\u001b[0m masked \u001b[38;5;241m=\u001b[39m cv\u001b[38;5;241m.\u001b[39mbitwise_and(img,img,mask \u001b[38;5;241m=\u001b[39m bit_and)\n",
      "\u001b[0;31merror\u001b[0m: OpenCV(4.9.0) /io/opencv/modules/imgproc/src/color.simd_helpers.hpp:92: error: (-2:Unspecified error) in function 'cv::impl::{anonymous}::CvtHelper<VScn, VDcn, VDepth, sizePolicy>::CvtHelper(cv::InputArray, cv::OutputArray, int) [with VScn = cv::impl::{anonymous}::Set<3, 4>; VDcn = cv::impl::{anonymous}::Set<1>; VDepth = cv::impl::{anonymous}::Set<0, 2, 5>; cv::impl::{anonymous}::SizePolicy sizePolicy = cv::impl::<unnamed>::NONE; cv::InputArray = const cv::_InputArray&; cv::OutputArray = const cv::_OutputArray&]'\n> Invalid number of channels in input image:\n>     'VScn::contains(scn)'\n> where\n>     'scn' is 1\n"
     ]
    }
   ],
   "source": [
    "img = cv.cvtColor(img,cv.COLOR_BGR2GRAY)\n",
    "bit_and = cv.resize(bit_and,img.shape[-1:1:-1])\n",
    "masked = cv.bitwise_and(img,img,mask = bit_and)\n",
    "cv.imshow('masking',masked)\n",
    "\n",
    "cv.waitKey(0)\n",
    "cv.destroyAllWindows()\n",
    "#error becuase img is already assigned to grayscale\n",
    "#still error because dimension mismatch\n",
    "#it will not work because masked tries to bitwise and with a grayscale image of circle hence dimension mismatch\n",
    "#this is for using bitwise and as a filter for translating u  should use cv.circle simply"
   ]
  },
  {
   "cell_type": "code",
   "execution_count": 8,
   "id": "86f2ecfe-cd38-4755-8cbc-9d7c42b345ef",
   "metadata": {},
   "outputs": [],
   "source": [
    "bit_and = cv.resize(bit_and,img.shape[::-1])\n",
    "masked = cv.bitwise_and(img,img,mask = bit_and)\n",
    "cv.imshow('masking',masked)\n",
    "\n",
    "cv.waitKey(0)\n",
    "cv.destroyAllWindows()"
   ]
  },
  {
   "cell_type": "code",
   "execution_count": 9,
   "id": "5e3d740d-1277-4e07-973d-07d150835d8c",
   "metadata": {},
   "outputs": [],
   "source": [
    "rect  = cv.rectangle(blank.copy(),(100,100),(400,400),[255,0,0],-1)\n",
    "cv.imshow('rectangle',rect)\n",
    "\n",
    "cv.waitKey(0)\n",
    "cv.destroyAllWindows()"
   ]
  },
  {
   "cell_type": "markdown",
   "id": "1aefde93-415e-451e-8519-0b7108fd1404",
   "metadata": {},
   "source": [
    "Histogram plots for image intensity of BGR\n",
    "---------------------------------\n"
   ]
  },
  {
   "cell_type": "code",
   "execution_count": 10,
   "id": "7018d15a-7b5e-4150-84c8-fc14d675bcae",
   "metadata": {},
   "outputs": [
    {
     "data": {
      "image/png": "[encoded data removed]",
      "text/plain": [
       "<Figure size 640x480 with 1 Axes>"
      ]
     },
     "metadata": {},
     "output_type": "display_data"
    }
   ],
   "source": [
    "cimg = cv.imread('Documents/a.jpg')\n",
    "import  matplotlib.pyplot as plt\n",
    "a = cv.calcHist([cimg],[0],None,[256],[0,256])\n",
    "plt.plot(a)\n",
    "plt.show()"
   ]
  },
  {
   "cell_type": "code",
   "execution_count": 14,
   "id": "ffc323cc-f0de-4a14-b9e9-3a21af502149",
   "metadata": {},
   "outputs": [],
   "source": [
    "s_img = cv.imread('Documents/a.jpg')\n",
    "#whenever we have to get a face detection or edge detection always use grayscale images\n",
    "#no need to use images \n",
    "sg_img = cv.cvtColor(s_img,cv.COLOR_BGR2GRAY)\n",
    "#(x,y) axis0 x and axisy as 1,0\n",
    "sobelx = cv.Sobel(sg_img,cv.CV_64F,1,0)\n",
    "sobely = cv.Sobel(sg_img,cv.CV_64F,0,1)\n",
    "\n",
    "final_edge = cv.bitwise_or(sobelx,sobely)\n",
    "cv.imshow('final',final_edge)\n",
    "cv.waitKey(0)\n",
    "cv.destroyAllWindows()"
   ]
  },
  {
   "cell_type": "code",
   "execution_count": null,
   "id": "52e21f99-1955-436e-999b-a19b1911c24f",
   "metadata": {},
   "outputs": [],
   "source": [
    "s_img = cv.imread('Documents/a.jpg')\n",
    "#whenever we have to get a face detection or edge detection always use grayscale images\n",
    "#no need to use images \n",
    "sg_img = cv.cvtColor(s_img,cv.COLOR_BGR2GRAY)\n",
    "lap_edge = cv.Laplacian(sg_img,cv.CV_64F)\n",
    "lap_edge = np.uint8(np.absolute(lap_edge))\n",
    "cv.imshow('final',lap_edge)\n",
    "cv.waitKey(0)\n",
    "cv.destroyAllWindows()\n",
    "#thresholding,laplacian,eroding,dilating,sobel,etc.."
   ]
  },
  {
   "cell_type": "code",
   "execution_count": null,
   "id": "0d1b7224-0e63-4f1b-ad7e-5110ed1cccb5",
   "metadata": {},
   "outputs": [],
   "source": []
  }
 ],
 "metadata": {
  "kernelspec": {
   "display_name": "Python 3 (ipykernel)",
   "language": "python",
   "name": "python3"
  },
  "language_info": {
   "codemirror_mode": {
    "name": "ipython",
    "version": 3
   },
   "file_extension": ".py",
   "mimetype": "text/x-python",
   "name": "python",
   "nbconvert_exporter": "python",
   "pygments_lexer": "ipython3",
   "version": "3.10.12"
  }
 },
 "nbformat": 4,
 "nbformat_minor": 5
}
