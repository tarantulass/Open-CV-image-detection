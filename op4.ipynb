{
 "cells": [
  {
   "cell_type": "markdown",
   "id": "7c41e448-e3f5-481b-b5d0-d3cbff637c0f",
   "metadata": {},
   "source": [
    "Split and merge color channels in opencv"
   ]
  },
  {
   "cell_type": "code",
   "execution_count": 1,
   "id": "b5c0272d-d048-48d4-8382-5975379519f7",
   "metadata": {},
   "outputs": [],
   "source": [
    "import cv2 as cv\n",
    "import numpy as np"
   ]
  },
  {
   "cell_type": "code",
   "execution_count": 2,
   "id": "3193b2a6-ec66-4d60-aa4d-f92099ca7aa8",
   "metadata": {},
   "outputs": [
    {
     "name": "stderr",
     "output_type": "stream",
     "text": [
      "Warning: Ignoring XDG_SESSION_TYPE=wayland on Gnome. Use QT_QPA_PLATFORM=wayland to run on Wayland anyway.\n"
     ]
    }
   ],
   "source": [
    "img = cv.imread('Documents/c.jpg')\n",
    "cv.imshow('d',img)\n",
    "cv.waitKey(0)\n",
    "cv.destroyAllWindows()"
   ]
  },
  {
   "cell_type": "code",
   "execution_count": 4,
   "id": "576bdbc0-1eef-41c7-8e1c-a965f0d38071",
   "metadata": {},
   "outputs": [],
   "source": [
    "b,g,r = cv.split(img)\n",
    "cv.imshow('Blue',b)\n",
    "cv.imshow('green',g)\n",
    "cv.imshow('red',r)\n",
    "cv.waitKey(0)\n",
    "cv.destroyAllWindows()\n",
    "#grayscale  images have a depth of 1 in matrices\n",
    "#here point to be noted is that we dont get the blue, red or green images rather we get a grayscale image"
   ]
  },
  {
   "cell_type": "code",
   "execution_count": 5,
   "id": "328bbd64-cf13-4747-9629-f9da2782e5a9",
   "metadata": {},
   "outputs": [],
   "source": [
    "merged = cv.merge([b,g,r])\n",
    "cv.imshow('merged',merged)\n",
    "cv.waitKey(0)\n",
    "cv.destroyAllWindows()"
   ]
  },
  {
   "cell_type": "markdown",
   "id": "f68f5381-8c31-4084-b669-cb8d3a1d93b1",
   "metadata": {},
   "source": [
    "Now to get the colors in respective color channel"
   ]
  },
  {
   "cell_type": "code",
   "execution_count": 6,
   "id": "5e748f0f-888d-4b66-bb7f-2b69fa79cc5b",
   "metadata": {},
   "outputs": [],
   "source": [
    "blank = np.zeros(img.shape[:2],dtype = 'uint8')\n",
    "blue = cv.merge([b,blank,blank])\n",
    "cv.imshow('pureblue',blue)\n",
    "cv.waitKey(0)\n",
    "cv.destroyAllWindows()"
   ]
  },
  {
   "cell_type": "code",
   "execution_count": 21,
   "id": "b05fad09-4f5d-4fc0-a055-33834642b397",
   "metadata": {},
   "outputs": [],
   "source": [
    "def rotate(img,angle,rot):\n",
    "    if rot is None:\n",
    "        rot = (img.shape[0]//2,img.shape[1]//2)\n",
    "    transform = cv.getRotationMatrix2D(rot,angle,1.0)\n",
    "    dimension = (img.shape[1], img.shape[0]) \n",
    "    return cv.warpAffine(img,transform,dimension)\n",
    "\n",
    "r = rotate(blue,90,None)\n",
    "cv.imshow('rotated',r)\n",
    "cv.waitKey(0)\n",
    "cv.destroyAllWindows()\n",
    "#check be careful here shape[0] and shape[1] has different convention"
   ]
  },
  {
   "cell_type": "markdown",
   "id": "11734829-3c23-4e64-a7c7-016a6449a43a",
   "metadata": {},
   "source": [
    "Blurring techniques"
   ]
  },
  {
   "cell_type": "code",
   "execution_count": 24,
   "id": "610ec72c-6edd-4d15-b2c4-d61c287ee1d3",
   "metadata": {},
   "outputs": [],
   "source": [
    "#avergae blur\n",
    "blur = cv.blur(img,(7,7))\n",
    "cv.imshow('blur',blur)\n",
    "cv.waitKey(0)\n",
    "cv.destroyAllWindows()"
   ]
  },
  {
   "cell_type": "code",
   "execution_count": 25,
   "id": "e8496bc1-fc5f-4ddb-9b2d-5bd7a7243d20",
   "metadata": {},
   "outputs": [],
   "source": [
    "#gaussian blur\n",
    "#the same as aveage blur the only difference is that we have weights applied here\n",
    "gblur = cv.GaussianBlur(img,(5,5),0)\n",
    "cv.imshow('gblur',gblur)\n",
    "cv.waitKey(0)\n",
    "cv.destroyAllWindows()\n",
    "#odd for a well defined center to be filled with the average of the adjacent pixels"
   ]
  },
  {
   "cell_type": "code",
   "execution_count": 26,
   "id": "d6e1b7bd-50dd-46e4-91a9-b1d0e31fc850",
   "metadata": {},
   "outputs": [],
   "source": [
    "#median blur here only use one integer instead of tuple\n",
    "mblur = cv.medianBlur(img,3)\n",
    "cv.imshow('mblur',mblur)\n",
    "cv.waitKey(0)\n",
    "cv.destroyAllWindows()\n",
    "#median blur is not suited for high kernel size\n",
    "#gaussian > median >average in terms of clarity"
   ]
  },
  {
   "cell_type": "code",
   "execution_count": 27,
   "id": "3c604e3f-9509-4b6d-8b1a-02ed664ee8a5",
   "metadata": {},
   "outputs": [],
   "source": [
    "#bilateral blurring - best for cv projects this retains the edge information\n",
    "# we have a diameter not kernel size\n",
    "#larger the sigma color means more distinct the number of colors will be considered while averaging\n",
    "bblur = cv.bilateralFilter(img,3,15,15)\n",
    "cv.imshow('bblur',bblur)\n",
    "cv.waitKey(0)\n",
    "cv.destroyAllWindows()"
   ]
  },
  {
   "cell_type": "code",
   "execution_count": null,
   "id": "fac01391-2905-4542-97b3-f7994e252f26",
   "metadata": {},
   "outputs": [],
   "source": []
  }
 ],
 "metadata": {
  "kernelspec": {
   "display_name": "Python 3 (ipykernel)",
   "language": "python",
   "name": "python3"
  },
  "language_info": {
   "codemirror_mode": {
    "name": "ipython",
    "version": 3
   },
   "file_extension": ".py",
   "mimetype": "text/x-python",
   "name": "python",
   "nbconvert_exporter": "python",
   "pygments_lexer": "ipython3",
   "version": "3.10.12"
  }
 },
 "nbformat": 4,
 "nbformat_minor": 5
}
